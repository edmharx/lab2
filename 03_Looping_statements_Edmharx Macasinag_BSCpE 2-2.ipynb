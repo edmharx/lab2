{
 "cells": [
  {
   "cell_type": "markdown",
   "metadata": {},
   "source": [
    "## EXERCISE 1\n",
    "### Recursion\n",
    "\n",
    "I used recursion here by passing the number and its exponent to the func `power(num, eponent)` and here is the explanation for this exercise:\n",
    "\n",
    "* Calling the base and exponent first.\n",
    "* If the exponent is 0 then it will return 1 as every integer with 0 exponent is 1.\n",
    "* Multiply the num to itself while the exponent is being reduced by 1 per call.\n",
    "* Recursion stops upon reaching the case where exponent is 0 as it will return 1 stopping the code."
   ]
  },
  {
   "cell_type": "code",
   "execution_count": null,
   "metadata": {},
   "outputs": [],
   "source": [
    "num = int(input(\"Put the whole number: \"))\n",
    "exponent = int(input(\"Put the exponent: \"))\n",
    "\n",
    "def power(num, exponent):\n",
    "    if exponent == 0:\n",
    "        return 1\n",
    "    else:\n",
    "        return num * power(num, exponent-1)\n",
    "\n",
    "ans = power(num, exponent)\n",
    "print(ans)"
   ]
  },
  {
   "cell_type": "code",
   "execution_count": null,
   "metadata": {},
   "outputs": [],
   "source": [
    "Sample Output:\n",
    "\n",
    "Put the whole number: 5\n",
    "Put the exponent: 3\n",
    "125"
   ]
  },
  {
   "cell_type": "markdown",
   "metadata": {},
   "source": [
    "## EXERCISE 2\n",
    "\n",
    "### Array\n",
    "\n",
    "This utilizes the an array variable and the functions `list` and `map`, here is the explanation:\n",
    "\n",
    "* Ask for the number of array and the integers itself.\n",
    "* Split the integers through spaces then converts them back to integers using `map` since split converts the integers to strings.\n",
    "* Use list function to list all the elements the iterating them while getting their cube."
   ]
  },
  {
   "cell_type": "code",
   "execution_count": null,
   "metadata": {},
   "outputs": [],
   "source": [
    "size = int(input(\"Input the size of the array: \"))\n",
    "array = list(map(int, input(\"Enter the elements separated by space: \").split()))\n",
    "\n",
    "for i in array:\n",
    "    ans = i**3\n",
    "    print(ans)"
   ]
  },
  {
   "cell_type": "code",
   "execution_count": null,
   "metadata": {},
   "outputs": [],
   "source": [
    "Sample Output:\n",
    "\n",
    "Input the size of the array: 3\n",
    "Enter the elements separated by space: 50 4 15\n",
    "125000\n",
    "64\n",
    "3375"
   ]
  },
  {
   "cell_type": "markdown",
   "metadata": {},
   "source": [
    "## EXERCISE 3\n",
    "### Range\n",
    "\n",
    "I used iteration to display the hollow box, here is the explanation:\n",
    "\n",
    "* Get the desired length of the sides.\n",
    "* Iterate depending on the length of the side to display the 2 vertical sides.\n",
    "* Put a condition where it displays the \"x\" depending on the length on the top and bottom side.\n",
    "* Make the box hollow by printing \" \" in the midle of two vertical sides."
   ]
  },
  {
   "cell_type": "code",
   "execution_count": null,
   "metadata": {},
   "outputs": [],
   "source": [
    "length = int(input(\"Input the length of the sides: \"))\n",
    "\n",
    "for i in range(length):\n",
    "    if i == length-1 or i == 0:\n",
    "        print(\"x\"*length)\n",
    "    else:\n",
    "        print(\"x\"+\" \"*(length-2)+\"x\")"
   ]
  },
  {
   "cell_type": "code",
   "execution_count": null,
   "metadata": {},
   "outputs": [],
   "source": [
    "Sample Output:\n",
    "\n",
    "Input the length of the sides: 5\n",
    "xxxxx\n",
    "x   x\n",
    "x   x\n",
    "x   x\n",
    "xxxxx"
   ]
  }
 ],
 "metadata": {
  "language_info": {
   "name": "python"
  }
 },
 "nbformat": 4,
 "nbformat_minor": 2
}
