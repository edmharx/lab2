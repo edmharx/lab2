{
 "cells": [
  {
   "cell_type": "markdown",
   "metadata": {},
   "source": [
    "## EXERCISE 1\n",
    "### Recursion\n",
    "\n",
    "I used recursion here by passing the number and its exponent to the func `power(num, eponent)` and here is the explanation for this exercise:\n",
    "\n",
    "* Calling the base and exponent first.\n",
    "* If the exponent is 0 then it will return 1 as every integer with 0 exponent is 1.\n",
    "* Multiply the num to itself while the exponent is being reduced by 1 per call.\n",
    "* Recursion stops upon reaching the case where exponent is 0 as it will return 1 stopping the code."
   ]
  },
  {
   "cell_type": "code",
   "execution_count": null,
   "metadata": {},
   "outputs": [
    {
     "data": {
      "text/plain": [
       "125\n"
      ]
     },
     "metadata": {},
     "output_type": "display_data"
    }
   ],
   "source": [
    "num = int(input(\"Put the whole number: \"))\n",
    "exponent = int(input(\"Put the exponent: \"))\n",
    "\n",
    "def power(num, exponent):\n",
    "    if exponent == 0:\n",
    "        return 1\n",
    "    else:\n",
    "        return num * power(num, exponent-1)\n",
    "\n",
    "ans = power(num, exponent)\n",
    "print(ans)"
   ]
  }
 ],
 "metadata": {
  "language_info": {
   "name": "python"
  }
 },
 "nbformat": 4,
 "nbformat_minor": 2
}
